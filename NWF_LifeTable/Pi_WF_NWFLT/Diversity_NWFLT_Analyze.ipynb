{
 "cells": [
  {
   "cell_type": "code",
   "execution_count": 14,
   "id": "ee0825f2-11d8-4401-a45f-284ae50a3705",
   "metadata": {},
   "outputs": [
    {
     "name": "stdout",
     "output_type": "stream",
     "text": [
      "------------------------------------------------------------------------------------------------------------\n",
      "NWF_LT Median Ratio:  0.8296\n",
      "\n",
      "Median Pi Autosome:  0.0007692\n",
      "Median Pi X:  0.0006381\n",
      "\n",
      "Effective Population size Autosome:  385\n",
      "Effective Population size X:  319\n"
     ]
    }
   ],
   "source": [
    "# Wright Fisher model\n",
    "import matplotlib.pyplot as mp\n",
    "import numpy as np\n",
    "import os \n",
    "\n",
    "\n",
    "FOLDER_LT = \"/mnt/primevo/work/timothe_dandoy/SLiM_Project/tmp/NWF_LifeTable/Pi_WF_NWFLT/\"\n",
    "\n",
    "FOLDER_output = \"/mnt/primevo/work/timothe_dandoy/SLiM_Project/done/NWF_LifeTable/Pi_WF_NWFLT/\"\n",
    "\n",
    "LSexRatio = [0.25,0.3,0.4,0.5,0.6,0.7,0.75]\n",
    "\n",
    "\n",
    "NWFLT_Pi_ratio = []\n",
    "NWFLT_PiA = []\n",
    "NWFLT_PiX = []\n",
    "    \n",
    "for NUM in range(1,501):\n",
    "        File = FOLDER_LT+\"NWF_LT_SEXRATIO0.5,\"+str(NUM)+\".txt\"\n",
    "        if os.path.isfile(File):\n",
    "            Text = open(File, 'r')\n",
    "            Values = Text.read().split()\n",
    "            if len(Values) > 0:\n",
    "                NWFLT_PiA.append(float(Values[0]))\n",
    "                NWFLT_PiX.append(float(Values[1]))                \n",
    "                NWFLT_Pi_ratio.append(float(Values[1])/float(Values[0]))\n",
    "            Text.close()\n",
    "    \n",
    "Ne = 4*750*(1-0.5)*0.5  # Ne = 4*Nm*Nf/N  => Ne = 4*N*(1-SR)*SR \n",
    "expected_teta = round (4*Ne*40*1.25e-8,10)\n",
    "    \n",
    "NWFLT_median = round(np.median(NWFLT_Pi_ratio),4)\n",
    "NWFLT_PiA_median = round(np.median(NWFLT_PiA),7)\n",
    "NWFLT_PiX_median = round(np.median(NWFLT_PiX),7)\n",
    "\n",
    "NeA = round(NWFLT_PiA_median/(4*40*1.25e-8))\n",
    "NeX = round(NWFLT_PiX_median/(4*40*1.25e-8))\n",
    "    \n",
    "print(\"------------------------------------------------------------------------------------------------------------\")\n",
    "print(\"NWF_LT Median Ratio: \",NWFLT_median)\n",
    "print()\n",
    "print(\"Median Pi Autosome: \",NWFLT_PiA_median)\n",
    "print(\"Median Pi X: \",NWFLT_PiX_median)\n",
    "print()\n",
    "print(\"Effective Population size Autosome: \",NeA)\n",
    "print(\"Effective Population size X: \",NeX)\n",
    "\n",
    "    \n"
   ]
  },
  {
   "cell_type": "code",
   "execution_count": null,
   "id": "620a6792-1f74-4a26-9421-c9040f8e88f4",
   "metadata": {},
   "outputs": [],
   "source": []
  }
 ],
 "metadata": {
  "kernelspec": {
   "display_name": "SLiM_Project",
   "language": "python",
   "name": "slim_project"
  },
  "language_info": {
   "codemirror_mode": {
    "name": "ipython",
    "version": 3
   },
   "file_extension": ".py",
   "mimetype": "text/x-python",
   "name": "python",
   "nbconvert_exporter": "python",
   "pygments_lexer": "ipython3",
   "version": "3.13.2"
  }
 },
 "nbformat": 4,
 "nbformat_minor": 5
}
